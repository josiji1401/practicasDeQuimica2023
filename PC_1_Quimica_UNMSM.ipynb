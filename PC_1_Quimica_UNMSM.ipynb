{
  "nbformat": 4,
  "nbformat_minor": 0,
  "metadata": {
    "colab": {
      "provenance": [],
      "include_colab_link": true
    },
    "kernelspec": {
      "name": "python3",
      "display_name": "Python 3"
    },
    "language_info": {
      "name": "python"
    },
    "widgets": {
      "application/vnd.jupyter.widget-state+json": {
        "d4691835f4474884829213796343340f": {
          "model_module": "faerun-notebook",
          "model_name": "SmilesDrawerModel",
          "model_module_version": "^0.1.5",
          "state": {
            "_dom_classes": [],
            "_model_module": "faerun-notebook",
            "_model_module_version": "^0.1.5",
            "_model_name": "SmilesDrawerModel",
            "_view_count": null,
            "_view_module": "faerun-notebook",
            "_view_module_version": "^0.1.5",
            "_view_name": "SmilesDrawerView",
            "background": "#1e1e1e",
            "border": true,
            "layout": "IPY_MODEL_35b7ce94b6e84d4c985918e50984dcd7",
            "options": {
              "scale": 1.25
            },
            "output": "svg",
            "theme": "dark",
            "value": [
              [
                "Rxn",
                "C(C1C(C(C(C(O1)O)O)O)O)O.O=O>>C(=O)=O.O"
              ]
            ]
          }
        },
        "35b7ce94b6e84d4c985918e50984dcd7": {
          "model_module": "@jupyter-widgets/base",
          "model_name": "LayoutModel",
          "model_module_version": "1.2.0",
          "state": {
            "_model_module": "@jupyter-widgets/base",
            "_model_module_version": "1.2.0",
            "_model_name": "LayoutModel",
            "_view_count": null,
            "_view_module": "@jupyter-widgets/base",
            "_view_module_version": "1.2.0",
            "_view_name": "LayoutView",
            "align_content": null,
            "align_items": null,
            "align_self": null,
            "border": null,
            "bottom": null,
            "display": null,
            "flex": null,
            "flex_flow": null,
            "grid_area": null,
            "grid_auto_columns": null,
            "grid_auto_flow": null,
            "grid_auto_rows": null,
            "grid_column": null,
            "grid_gap": null,
            "grid_row": null,
            "grid_template_areas": null,
            "grid_template_columns": null,
            "grid_template_rows": null,
            "height": null,
            "justify_content": null,
            "justify_items": null,
            "left": null,
            "margin": null,
            "max_height": null,
            "max_width": null,
            "min_height": null,
            "min_width": null,
            "object_fit": null,
            "object_position": null,
            "order": null,
            "overflow": null,
            "overflow_x": null,
            "overflow_y": null,
            "padding": null,
            "right": null,
            "top": null,
            "visibility": null,
            "width": null
          }
        }
      }
    }
  },
  "cells": [
    {
      "cell_type": "markdown",
      "metadata": {
        "id": "view-in-github",
        "colab_type": "text"
      },
      "source": [
        "<a href=\"https://colab.research.google.com/github/josiji1401/practicasDeQuimica2023/blob/main/PC_1_Quimica_UNMSM.ipynb\" target=\"_parent\"><img src=\"https://colab.research.google.com/assets/colab-badge.svg\" alt=\"Open In Colab\"/></a>"
      ]
    },
    {
      "cell_type": "markdown",
      "source": [
        "$$\\Large \\textit{UNMSM | Química}$$\n",
        "$$\\large \\textbf{PC Nº1 | Materia y clasificación}$$\n",
        "\n",
        "_Profesor: Jesus Alvarado Huayhuaz_"
      ],
      "metadata": {
        "id": "sDJAjbaQOj4x"
      }
    },
    {
      "cell_type": "markdown",
      "source": [
        "Todas las indicaciones para la presentación de la práctica son explicadas en clase y brindadas en el material de enunciado de preguntas en formato PDF."
      ],
      "metadata": {
        "id": "_DsTzWLoP7Fy"
      }
    },
    {
      "cell_type": "markdown",
      "source": [
        "## Pregunta 1: Sobre el ABC de python (4 puntos)"
      ],
      "metadata": {
        "id": "obD7c2igOD6t"
      }
    },
    {
      "cell_type": "markdown",
      "source": [
        "Durante la semana de revisión del material \"ABC de python\", reflexiona sobre qué conceptos aprendiste con claridad y cuáles consideras los más desafiantes. A continuación resuelve los siguiente ejercicios, puedes ayudarte del material en http://bit.ly/3YKICSZ."
      ],
      "metadata": {
        "id": "emt93S7dL7QH"
      }
    },
    {
      "cell_type": "code",
      "source": [
        "# Imprime la versión de python que usas y las palabras reservadas de python para esa versión.\n",
        "import sys\n",
        "print(\"Python version\")\n",
        "print (sys.version)\n",
        "print(\"Version info.\")\n",
        "print (sys.version_info)\n",
        "\n",
        "import keyword\n",
        "print(keyword.kwlist)\n",
        "\n"
      ],
      "metadata": {
        "id": "6mJvqMN0LTU8",
        "colab": {
          "base_uri": "https://localhost:8080/"
        },
        "outputId": "5de705ea-c853-4f17-be16-85fc22b4cfa0"
      },
      "execution_count": null,
      "outputs": [
        {
          "output_type": "stream",
          "name": "stdout",
          "text": [
            "Python version\n",
            "3.10.12 (main, Jun 11 2023, 05:26:28) [GCC 11.4.0]\n",
            "Version info.\n",
            "sys.version_info(major=3, minor=10, micro=12, releaselevel='final', serial=0)\n",
            "['False', 'None', 'True', 'and', 'as', 'assert', 'async', 'await', 'break', 'class', 'continue', 'def', 'del', 'elif', 'else', 'except', 'finally', 'for', 'from', 'global', 'if', 'import', 'in', 'is', 'lambda', 'nonlocal', 'not', 'or', 'pass', 'raise', 'return', 'try', 'while', 'with', 'yield']\n"
          ]
        }
      ]
    },
    {
      "cell_type": "code",
      "source": [
        "# Crea una matriz de 3x3 e imprime la suma de los elementos en su diagonal (traza).\n",
        "matriz= [[20,63,54],\n",
        "         [3,5,96],\n",
        "         [9,8,2],]\n",
        "print(matriz)\n",
        "sumatraza= matriz[0][0] + matriz[1][1] + matriz[2][2]\n",
        "print(f'La suma diagonal de mi matriz es {sumatraza}')\n"
      ],
      "metadata": {
        "id": "MxDzGypdLTXh",
        "colab": {
          "base_uri": "https://localhost:8080/"
        },
        "outputId": "11a92d02-f682-44b9-e075-9a882e99db8e"
      },
      "execution_count": null,
      "outputs": [
        {
          "output_type": "stream",
          "name": "stdout",
          "text": [
            "[[20, 63, 54], [3, 5, 96], [9, 8, 2]]\n",
            "La suma diagonal de mi matriz es 27\n"
          ]
        }
      ]
    },
    {
      "cell_type": "code",
      "source": [
        "# Guarda como variable la masa atómica de los elementos C, H y O, e imprime la masa molecular del etanol.\n",
        "MasaC= 12.011\n",
        "MasaH= 1.00784\n",
        "MasaO= 15.999\n",
        "#C2H6O> Etanol\n",
        "Etanol= float(MasaC*2+(MasaH*6)+MasaO)\n",
        "print(f'La masa molecular del etanol es {Etanol} g/mol' )\n"
      ],
      "metadata": {
        "id": "MyhNX7JmLTSe",
        "colab": {
          "base_uri": "https://localhost:8080/"
        },
        "outputId": "84f07042-a760-46eb-9e91-096091cde67d"
      },
      "execution_count": null,
      "outputs": [
        {
          "output_type": "stream",
          "name": "stdout",
          "text": [
            "La masa molecular del etanol es 46.06804 g/mol\n"
          ]
        }
      ]
    },
    {
      "cell_type": "code",
      "source": [
        "# Busca la temperatura de fusión en Celsius de 5 metales y guárdalos en una lista. Imprime las temperaturas en Kelvin\n",
        "\n",
        "#metales = ['Ag', 'Au', 'Sn','Fe','Tg']\n",
        "Tcelsius = [962, 1064, 232, 1538, 3422]\n",
        "FCKel=[273.15,273.15,273.15,273.15,273.15]\n",
        "TKelvin=[]\n",
        "\n",
        "for i in range(len(Tcelsius)):\n",
        "\tTKelvin.append(Tcelsius[i]+FCKel[i])\n",
        "\n",
        "print(f'La nueva temperatura es {TKelvin} Kelvin')"
      ],
      "metadata": {
        "id": "NCOnJ0FwgLLc",
        "colab": {
          "base_uri": "https://localhost:8080/"
        },
        "outputId": "c2ba5b1c-cc3c-4c5b-8c6d-89de200896a0"
      },
      "execution_count": null,
      "outputs": [
        {
          "output_type": "stream",
          "name": "stdout",
          "text": [
            "La nueva temperatura es [1235.15, 1337.15, 505.15, 1811.15, 3695.15] Kelvin\n"
          ]
        }
      ]
    },
    {
      "cell_type": "markdown",
      "source": [
        "## Pregunta 2: Operaciones (4 puntos)"
      ],
      "metadata": {
        "id": "epzOadagLfPi"
      }
    },
    {
      "cell_type": "markdown",
      "source": [
        "Escribe un programa que lea repetidamente elementos químicos en español hasta que el usuario introduzca “fin”. Una vez se haya introducido “fin”, muestra por pantalla (o sea imprime) el total de elementos ingresados. Si el usuario introduce cualquier otra cosa que no sea un elemento químico, detecta su fallo usando try y except, muestra un mensaje de error y pasa al siguiente elemento."
      ],
      "metadata": {
        "id": "MbAEOGPsjOWZ"
      }
    },
    {
      "cell_type": "code",
      "source": [
        "elementos=['Silicio', 'Fósforo','Azufre','Cloro', 'Argón', 'Potasio', 'Calcio', 'Escandio', 'Titanio', 'Vanadio', 'Cromo','Manganeso', 'Hierro', 'Cobalto', 'Níquel', 'Cobre', 'Zinc']\n",
        "\n",
        "\n",
        "\n",
        "total_elementos = 0\n",
        "\n",
        "try:\n",
        "    while True:\n",
        "       linea = input('>ingrese el elemento: ')\n",
        "       if any(x==linea for x in elementos):\n",
        "           print(linea)\n",
        "           continue\n",
        "       total_elementos += 1\n",
        "       if linea == 'fin':\n",
        "           print(\"fin\")\n",
        "           break\n",
        "       raise Exception(\"\")\n",
        "\n",
        "except:\n",
        "    print('Error:El elemento no existe')\n",
        "\n",
        "print(f\"Total de elementos químicos ingresados: {total_elementos}\")\n"
      ],
      "metadata": {
        "id": "gJGX0p5QLetj"
      },
      "execution_count": null,
      "outputs": []
    },
    {
      "cell_type": "markdown",
      "source": [
        "# Pregunta 3: Conservación de la masa (4 puntos)"
      ],
      "metadata": {
        "id": "8gxSHpD3LZsh"
      }
    },
    {
      "cell_type": "markdown",
      "source": [
        "### Código necesario para generar la imagen"
      ],
      "metadata": {
        "id": "mMV9c3hDl7KL"
      }
    },
    {
      "cell_type": "code",
      "source": [
        "!pip install faerun-notebook==0.1.5b0\n",
        "\n",
        "import ipywidgets as widgets\n",
        "from faerun_notebook import SmilesDrawer\n",
        "from google.colab import output\n",
        "output.enable_custom_widget_manager()"
      ],
      "metadata": {
        "id": "JgF8Ohtbky65"
      },
      "execution_count": null,
      "outputs": []
    },
    {
      "cell_type": "markdown",
      "source": [
        "### Reacción química"
      ],
      "metadata": {
        "id": "5sLC10D_oSrV"
      }
    },
    {
      "cell_type": "markdown",
      "source": [
        "Demuestra cómo se cumple la conservación de la masa en la siguiente reacción química. Sugerencia: hacer un balance estequiométrico y luego emplear la masa molecular de reactivos y productos."
      ],
      "metadata": {
        "id": "OVRhAzaVmD86"
      }
    },
    {
      "cell_type": "code",
      "source": [
        "SmilesDrawer(value=[(\"Rxn\", \"C(C1C(C(C(C(O1)O)O)O)O)O.O=O>>C(=O)=O.O\")], theme='dark', background=\"#1e1e1e\", options={'scale': 1.25})"
      ],
      "metadata": {
        "colab": {
          "base_uri": "https://localhost:8080/",
          "height": 289,
          "referenced_widgets": [
            "d4691835f4474884829213796343340f",
            "35b7ce94b6e84d4c985918e50984dcd7"
          ]
        },
        "id": "CC0mAXWmnYyN",
        "outputId": "fb9a2a33-11fa-47cd-bffe-ce9c285db1d8"
      },
      "execution_count": null,
      "outputs": [
        {
          "output_type": "display_data",
          "data": {
            "text/plain": [
              "SmilesDrawer(background='#1e1e1e', options={'scale': 1.25}, theme='dark', value=[('Rxn', 'C(C1C(C(C(C(O1)O)O)O…"
            ],
            "application/vnd.jupyter.widget-view+json": {
              "version_major": 2,
              "version_minor": 0,
              "model_id": "d4691835f4474884829213796343340f"
            }
          },
          "metadata": {
            "application/vnd.jupyter.widget-view+json": {
              "colab": {
                "custom_widget_manager": {
                  "url": "https://ssl.gstatic.com/colaboratory-static/widgets/colab-cdn-widget-manager/b3e629b1971e1542/manager.min.js"
                }
              }
            }
          }
        }
      ]
    },
    {
      "cell_type": "code",
      "source": [
        "C= 12.011\n",
        "H= 1.00784\n",
        "O= 15.999\n",
        "masa_molecular_glucosa = C*6 + H*12 + O*6\n",
        "masa_molecular_oxigeno = O*2\n",
        "masa_reactivos = masa_molecular_glucosa + masa_molecular_oxigeno\n",
        "print(f\"En los reactivos la glucosa tiene {masa_molecular_glucosa} y el oxígeno molecular {masa_molecular_oxigeno}, en total son {masa_reactivos} g/mol\")\n",
        "\n",
        "masa_molecular_CO2 = C+O*2\n",
        "masa_molecular_agua = O+H*2\n",
        "masa_productos = masa_molecular_CO2 + masa_molecular_agua\n",
        "print(f\"En el producto el CO2 tiene {masa_molecular_CO2} y el agua {masa_molecular_agua}. En total son {masa_productos} g/mol\")\n",
        "\n",
        "reactivos_balanceados= masa_molecular_glucosa + masa_molecular_oxigeno*6\n",
        "producto_balanceado= masa_molecular_CO2*6 + masa_molecular_agua*6\n",
        "print(f\"Balanceamos con el coeficiente 6 al O2 en el lado de reactivos, en el lado de productos también con coeficiente 6 al C02 y agua para obtener una masa molecular igual de {reactivos_balanceados} y {producto_balanceado} g/mol\")"
      ],
      "metadata": {
        "id": "UvQDAnM4RRNf",
        "colab": {
          "base_uri": "https://localhost:8080/"
        },
        "outputId": "a52edd41-780a-4181-eed9-9de3c71d9b3a"
      },
      "execution_count": 2,
      "outputs": [
        {
          "output_type": "stream",
          "name": "stdout",
          "text": [
            "En los reactivos la glucosa tiene 180.15408000000002 y el oxígeno molecular 31.998, en total son 212.15208 g/mol\n",
            "En el producto el CO2 tiene 44.009 y el agua 18.014680000000002. En total son 62.02368 g/mol\n",
            "Balanceamos con el coeficiente 6 al O2 en el lado de reactivos, en el lado de productos también con coeficiente 6 al C02 y agua para obtener una masa molecular igual de 372.14208 y 372.14207999999996 g/mol\n"
          ]
        }
      ]
    },
    {
      "cell_type": "markdown",
      "source": [],
      "metadata": {
        "id": "hlzi5FTtXnBO"
      }
    },
    {
      "cell_type": "markdown",
      "source": [
        "## Pregunta 4: Notación científica (4 puntos)"
      ],
      "metadata": {
        "id": "Rh-nAUiKhJNB"
      }
    },
    {
      "cell_type": "markdown",
      "source": [
        "Imprime las siguientes operaciones según la notación científica:\n",
        "\n",
        "(1) $1.321 \\times 10^{-4} + 8.5 \\times 10^{-2}$\n",
        "\n",
        "(2) $1.71 \\times 10^{3} - 2.01 \\times 10^{2}\\$\n",
        "\n",
        "(3) $(7.4 \\times 10^5)(7.2 \\times 10^4)$\n",
        "\n",
        "(4) $(7.4 \\times 10^5)/(7.2 \\times 10^4)$"
      ],
      "metadata": {
        "id": "NIkI45Xdqqnt"
      }
    },
    {
      "cell_type": "code",
      "source": [
        "Op1= (1.321*(10**-4)+8.5*(10**-2))\n",
        "print(Op1)"
      ],
      "metadata": {
        "colab": {
          "base_uri": "https://localhost:8080/"
        },
        "id": "bSTMcnkGfpeg",
        "outputId": "0f0cf083-83dd-4172-d945-9bafec9445f2"
      },
      "execution_count": null,
      "outputs": [
        {
          "output_type": "stream",
          "name": "stdout",
          "text": [
            "0.0851321\n"
          ]
        }
      ]
    },
    {
      "cell_type": "code",
      "source": [
        "Op2= (1.71*(10**3)-2.01*(10**2))\n",
        "print(Op2)"
      ],
      "metadata": {
        "colab": {
          "base_uri": "https://localhost:8080/"
        },
        "id": "P_oL5moBf_bc",
        "outputId": "2be133ab-8f8b-49c5-bf6e-d52246524287"
      },
      "execution_count": null,
      "outputs": [
        {
          "output_type": "stream",
          "name": "stdout",
          "text": [
            "1509.0\n"
          ]
        }
      ]
    },
    {
      "cell_type": "code",
      "source": [
        "Op3= (7.4*(10**5)*(7.2*(10**4)))\n",
        "print(Op3)"
      ],
      "metadata": {
        "colab": {
          "base_uri": "https://localhost:8080/"
        },
        "id": "XDT1sFDXgOE6",
        "outputId": "aba41d1f-90af-4b75-f8b5-75482b9ebf0f"
      },
      "execution_count": null,
      "outputs": [
        {
          "output_type": "stream",
          "name": "stdout",
          "text": [
            "53280000000.0\n"
          ]
        }
      ]
    },
    {
      "cell_type": "code",
      "source": [
        "Op4= (7.4*(10**5)/(7.2*(10**4)))\n",
        "print(Op4)"
      ],
      "metadata": {
        "colab": {
          "base_uri": "https://localhost:8080/"
        },
        "id": "NrQ9nlEzguvR",
        "outputId": "3cd61c62-518e-4a5c-bb3d-0601f177950b"
      },
      "execution_count": null,
      "outputs": [
        {
          "output_type": "stream",
          "name": "stdout",
          "text": [
            "10.277777777777779\n"
          ]
        }
      ]
    },
    {
      "cell_type": "markdown",
      "source": [
        "## Pregunta 5: Método científico (4 puntos)"
      ],
      "metadata": {
        "id": "CuzCcXJghR14"
      }
    },
    {
      "cell_type": "markdown",
      "source": [
        "Artículo: https://bit.ly/3surZ1W\n",
        "Leer el siguiente artículo y explica cómo es aplicado el método científico. Emplea como máximo 300 palabras."
      ],
      "metadata": {
        "id": "WngRSR-Rhmx1"
      }
    },
    {
      "cell_type": "code",
      "source": [
        "Después que investigadores de Sur Corea publicaran videos y resultados de sus experimentos con el nuevo material LK-99, confirmando que se trataba de un semiconductor a condiciones ambientales; científicos de todas partes del mundo lo replicaron, refutando su veracidad. Ellos se plantearon observaciones a partir de cuáles son los requisitos para ser un material semiconductor.\n",
        "- Tener una alta resistividad a la corriente eléctrica:\n",
        "La científica proveniente de la de Illinois, se percato que la temperatura del LK-99 para demostrar su electroresistividad se asemejaba mucho a la del sulfuro de cobre (Cu2S), por eso a través de testear una muestra del mismo, obtuvo como resultados que contenía 5% o 70% de impurezas según distintos tipos de instrumento de prueba.\n",
        "Por otra parte, investigadores del instituto Max Planck, soportando su experimentos en la propiedad del “flat band”, por la cual los electrones realizan un salto en la última capa y deben cumplir todos los semiconductores, decidieron experimentar con muestras del LK-99. Retiraron todas las impurezas de Cu2S y demostraron que el material solo no cumplía con dicha característica.\n",
        "- Poder realizar una levitación parcial:\n",
        "Un semiconductor verdadero es capaz de realizar esta acción producto del efecto de Meissner, en cambio por observaciones de un científico de Cambridge el LK-99 en el video original tiene ese comportamiento pero lo hace de una manera muy estable, sin las oscilaciones que tiene un semiconductor al flotar. Por eso hizo un prototipo donde sujetaba una bolita de grafeno junto a trazas de hierro (siguiendo la línea de la impurezas en el LK-99), obteniendo el mismo comportamiento de levitación, por esto concluyó que en realidad se trataba de ferromagnetismo.\n",
        "En general se demostró a partir de plantear características conocidas, métodos de prueba y prototipos , que se trata de un material aislante y no semiconductor.\n"
      ],
      "metadata": {
        "id": "eg2Mw5VRNSuj"
      },
      "execution_count": null,
      "outputs": []
    },
    {
      "cell_type": "markdown",
      "source": [
        "Después que investigadores de Sur Corea publicaran videos y resultados de sus experimentos con el nuevo material LK-99, confirmando que se trataba de un semiconductor a condiciones ambientales; científicos de todas partes del mundo lo replicaron, refutando su veracidad. Ellos se plantearon** observaciones** a partir de cuáles son los requisitos para ser un material semiconductor.\n",
        "\n",
        "-** Tener una alta resistividad a la corriente eléctrica: **\n",
        "La científica proveniente de la de Illinois, **se percato **que la temperatura del LK-99 para demostrar su electroresistividad se asemejaba mucho a la del sulfuro de cobre (Cu2S), por eso a través de **testear una muestra** del mismo, **obtuvo como resultados** que contenía 5% o 70% de impurezas según distintos tipos de instrumento de prueba.\n",
        "\n",
        "Por otra parte, investigadores del instituto Max Planck, **soportando su experimentos en la propiedad del “flat band”**, por la cual los electrones realizan un salto en la última capa y deben cumplir todos los semiconductores, decidieron **experimentar con muestras del LK-99.** Retiraron todas las impurezas de Cu2S y **demostraron **que el material solo no cumplía con dicha característica.\n",
        "\n",
        "**- Poder realizar una levitación parcial**:\n",
        "Un semiconductor verdadero es capaz de realizar esta acción producto del efecto de Meissner, **en cambio por observaciones** de un científico de Cambridge el LK-99 en el video original tiene ese comportamiento pero lo hace de una manera muy estable, sin las oscilaciones que tiene un semiconductor al flotar. Por **eso hizo un prototipo **donde sujetaba una bolita de grafeno junto a trazas de hierro (siguiendo la línea de la impurezas en el LK-99), obteniendo el mismo comportamiento de levitación, **por esto concluyó** que en realidad se trataba de ferromagnetismo.\n",
        "\n",
        "En general se demostró a partir de plantear características conocidas, métodos de prueba y prototipos , que se trata de un material aislante y no semiconductor.\n",
        "\n",
        "**Se han resaltado las oraciones que explican el proceder del método científico.\n"
      ],
      "metadata": {
        "id": "i_CZG8b1TGVC"
      }
    }
  ]
}