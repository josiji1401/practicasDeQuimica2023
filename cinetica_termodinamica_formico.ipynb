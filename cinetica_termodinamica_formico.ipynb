{
  "nbformat": 4,
  "nbformat_minor": 0,
  "metadata": {
    "colab": {
      "provenance": [],
      "include_colab_link": true
    },
    "kernelspec": {
      "name": "python3",
      "display_name": "Python 3"
    },
    "language_info": {
      "name": "python"
    }
  },
  "cells": [
    {
      "cell_type": "markdown",
      "metadata": {
        "id": "view-in-github",
        "colab_type": "text"
      },
      "source": [
        "<a href=\"https://colab.research.google.com/github/josiji1401/practicasDeQuimica2023/blob/main/cinetica_termodinamica_formico.ipynb\" target=\"_parent\"><img src=\"https://colab.research.google.com/assets/colab-badge.svg\" alt=\"Open In Colab\"/></a>"
      ]
    },
    {
      "cell_type": "markdown",
      "source": [
        "<br>\n",
        "<br>\n",
        "<br>\n",
        "<br>\n",
        "<br>\n",
        "\n",
        "<font size='6' style=\"color:#00A6D6\">  <b>Cinética y Termodinámica</b> </font>\n",
        "<a name=\"loading\"></a>\n",
        "\n",
        "<font size='4' style=\"color:#00A6D6\">  <b>Joel Silupú Jibaja\n",
        "\n",
        "</b> </font>\n",
        "<a name=\"loading\"></a>"
      ],
      "metadata": {
        "id": "MFEczF8MoLOn"
      }
    },
    {
      "cell_type": "markdown",
      "source": [
        "## [1] Instalación de librerías"
      ],
      "metadata": {
        "id": "vG4LjLYnXQ3U"
      }
    },
    {
      "cell_type": "code",
      "execution_count": 1,
      "metadata": {
        "id": "xE_b5Ce1Su26"
      },
      "outputs": [],
      "source": [
        "  %%capture\n",
        "  !pip install rdkit\n",
        "  !pip install pyscf"
      ]
    },
    {
      "cell_type": "code",
      "source": [
        "# Importamos librerías\n",
        "from rdkit import Chem\n",
        "from rdkit.Chem import Draw\n",
        "from rdkit.Chem import AllChem\n",
        "from rdkit.Chem.Draw import IPythonConsole\n",
        "IPythonConsole.drawOptions.addAtomIndices = True\n",
        "from pyscf import gto, scf"
      ],
      "metadata": {
        "id": "QzCqewUHWFi0"
      },
      "execution_count": 2,
      "outputs": []
    },
    {
      "cell_type": "markdown",
      "source": [
        "## [2] Estructuras"
      ],
      "metadata": {
        "id": "dsrpeM_nXVXL"
      }
    },
    {
      "cell_type": "markdown",
      "source": [
        "### Isómero CIS"
      ],
      "metadata": {
        "id": "AlwW7nx0jO42"
      }
    },
    {
      "cell_type": "code",
      "source": [
        "# representación SMILES del isómero CIS\n",
        "smi_cis = \"C(=O)O\"\n",
        "# elemento de RDKit\n",
        "cis = Chem.MolFromSmiles(smi_cis)\n",
        "# agregamos sus hidrógenos\n",
        "cis = Chem.AddHs(cis)\n",
        "# etiquetamos sus átomos y generamos sus coordenadas usando una semilla\n",
        "Chem.AllChem.EmbedMolecule(cis, useRandomCoords=False,randomSeed=1234)\n",
        "# guardamos a un archivo XYZ\n",
        "Chem.MolToXYZFile(cis, \"cis.xyz\")"
      ],
      "metadata": {
        "id": "KOoY4QRfZF-8"
      },
      "execution_count": 35,
      "outputs": []
    },
    {
      "cell_type": "code",
      "source": [
        "#visualizamos\n",
        "cis"
      ],
      "metadata": {
        "colab": {
          "base_uri": "https://localhost:8080/",
          "height": 167
        },
        "id": "us958ET5paDJ",
        "outputId": "26b1b92d-2329-4a42-fc7c-82050133a688"
      },
      "execution_count": 36,
      "outputs": [
        {
          "output_type": "execute_result",
          "data": {
            "text/plain": [
              "<rdkit.Chem.rdchem.Mol at 0x7e3a4faaceb0>"
            ],
            "image/png": "[encoded data removed]"
          },
          "metadata": {},
          "execution_count": 36
        }
      ]
    },
    {
      "cell_type": "code",
      "source": [
        "# visualizamos las coordenadas en el archivo XYZ\n",
        "!cat cis.xyz"
      ],
      "metadata": {
        "colab": {
          "base_uri": "https://localhost:8080/"
        },
        "id": "vjg18BYhdSuV",
        "outputId": "02d20f63-884f-4263-9465-b9d1732321eb"
      },
      "execution_count": 34,
      "outputs": [
        {
          "output_type": "stream",
          "name": "stdout",
          "text": [
            "5\n",
            "\n",
            "C     -0.475933   -0.060606    0.237857\n",
            "O     -0.686562    1.170337    0.174932\n",
            "O      0.833538   -0.496012    0.173550\n",
            "H     -1.293150   -0.756500    0.339063\n",
            "H      1.622107    0.142782    0.219411\n"
          ]
        }
      ]
    },
    {
      "cell_type": "markdown",
      "source": [
        "### Isómero TRANS"
      ],
      "metadata": {
        "id": "4CNFIBRlqAdg"
      }
    },
    {
      "cell_type": "code",
      "source": [
        "smi_trans = \"OC=O\"\n",
        "trans = Chem.MolFromSmiles(smi_trans)\n",
        "trans = Chem.AddHs(trans)\n",
        "Chem.AllChem.EmbedMolecule(trans, useRandomCoords=False,randomSeed=1234)\n",
        "Chem.MolToXYZFile(trans, \"trans.xyz\")"
      ],
      "metadata": {
        "id": "eu3mLcfTW3uL"
      },
      "execution_count": 17,
      "outputs": []
    },
    {
      "cell_type": "code",
      "source": [
        "trans"
      ],
      "metadata": {
        "colab": {
          "base_uri": "https://localhost:8080/",
          "height": 167
        },
        "id": "cua9Q9x-qNgV",
        "outputId": "8836902b-d3ff-4070-ef73-3e37ecae8cd2"
      },
      "execution_count": 18,
      "outputs": [
        {
          "output_type": "execute_result",
          "data": {
            "text/plain": [
              "<rdkit.Chem.rdchem.Mol at 0x7e3a5bcd1230>"
            ],
            "image/png": "[encoded data removed]"
          },
          "metadata": {},
          "execution_count": 18
        }
      ]
    },
    {
      "cell_type": "code",
      "source": [
        "!cat trans.xyz"
      ],
      "metadata": {
        "colab": {
          "base_uri": "https://localhost:8080/"
        },
        "id": "GJ7HYjy-j2Dl",
        "outputId": "9682a814-0d5c-41b5-a038-5173e1503834"
      },
      "execution_count": 32,
      "outputs": [
        {
          "output_type": "stream",
          "name": "stdout",
          "text": [
            "5\n",
            "\n",
            "O      0.865201   -0.466197    0.230670\n",
            "C     -0.441729   -0.042292    0.061021\n",
            "O     -0.675289    1.181715    0.110647\n",
            "H      1.502860    0.054160    0.852485\n",
            "H     -1.251043   -0.727386   -0.110010\n"
          ]
        }
      ]
    },
    {
      "cell_type": "markdown",
      "source": [
        "### Diedro = 90.0 º"
      ],
      "metadata": {
        "id": "cgwVN0EcjTyG"
      }
    },
    {
      "cell_type": "code",
      "source": [
        "Chem.AllChem.SetDihedralDeg(cis.GetConformer(0),3,0,2,4,90.0)\n",
        "Chem.MolToXYZFile(cis, \"diedro90.xyz\")\n",
        "cis"
      ],
      "metadata": {
        "colab": {
          "base_uri": "https://localhost:8080/",
          "height": 167
        },
        "id": "SnPyM7kAaPU8",
        "outputId": "5ee4604f-7cce-46d4-c5ea-c7584bd68380"
      },
      "execution_count": 38,
      "outputs": [
        {
          "output_type": "execute_result",
          "data": {
            "text/plain": [
              "<rdkit.Chem.rdchem.Mol at 0x7e3a4faaceb0>"
            ],
            "image/png": "[encoded data removed]"
          },
          "metadata": {},
          "execution_count": 38
        }
      ]
    },
    {
      "cell_type": "code",
      "source": [
        "!cat diedro90.xyz"
      ],
      "metadata": {
        "colab": {
          "base_uri": "https://localhost:8080/"
        },
        "id": "Ff-MLt7Ud5JS",
        "outputId": "e0a59a4c-ab34-4c1c-b406-bfa2fc1cc194"
      },
      "execution_count": 39,
      "outputs": [
        {
          "output_type": "stream",
          "name": "stdout",
          "text": [
            "5\n",
            "\n",
            "C     -0.475933   -0.060606    0.237857\n",
            "O     -0.686562    1.170337    0.174932\n",
            "O     -0.371721   -0.759637   -0.949124\n",
            "H     -0.379379   -0.556633    1.190217\n",
            "H     -1.176356   -1.179071   -1.405895\n"
          ]
        }
      ]
    },
    {
      "cell_type": "markdown",
      "source": [
        "## [3] Cálculo de energía"
      ],
      "metadata": {
        "id": "Na1RtCaFhFkJ"
      }
    },
    {
      "cell_type": "markdown",
      "source": [
        "### CIS"
      ],
      "metadata": {
        "id": "N_yA7D_Wj8m-"
      }
    },
    {
      "cell_type": "code",
      "source": [
        "cis = gto.M(atom=\"cis.xyz\")"
      ],
      "metadata": {
        "id": "AQ7auPkOhI5Z"
      },
      "execution_count": 44,
      "outputs": []
    },
    {
      "cell_type": "code",
      "source": [
        "cis.basis = \"6-31G\"\n",
        "mf_cis = cis.KS()\n",
        "mf_cis.xc = 'b3lyp'"
      ],
      "metadata": {
        "id": "yXVgChkZhQMB"
      },
      "execution_count": 45,
      "outputs": []
    },
    {
      "cell_type": "code",
      "source": [
        "resultado_cis = mf_cis.kernel()\n",
        "resultado_cis"
      ],
      "metadata": {
        "colab": {
          "base_uri": "https://localhost:8080/"
        },
        "id": "UBEOexDCh1F1",
        "outputId": "42d8fa40-3a02-46cb-cb50-804ab68fde8c"
      },
      "execution_count": 46,
      "outputs": [
        {
          "output_type": "stream",
          "name": "stdout",
          "text": [
            "converged SCF energy = -187.128311086825\n"
          ]
        },
        {
          "output_type": "execute_result",
          "data": {
            "text/plain": [
              "-187.12831108682508"
            ]
          },
          "metadata": {},
          "execution_count": 46
        }
      ]
    },
    {
      "cell_type": "markdown",
      "source": [
        "### Diedro 90"
      ],
      "metadata": {
        "id": "KvP9y3Bcj_al"
      }
    },
    {
      "cell_type": "code",
      "source": [
        "cis_90 = gto.M(atom=\"diedro90.xyz\")"
      ],
      "metadata": {
        "id": "HOG1U-DBkWEC"
      },
      "execution_count": 47,
      "outputs": []
    },
    {
      "cell_type": "code",
      "source": [
        "cis_90.basis = \"6-31G\"\n",
        "mf_90 = cis_90.KS()\n",
        "mf_90.xc = 'b3lyp'"
      ],
      "metadata": {
        "id": "odzdddSWkWED"
      },
      "execution_count": 48,
      "outputs": []
    },
    {
      "cell_type": "code",
      "source": [
        "resultado_cis_90 = mf_90.kernel()\n",
        "resultado_cis_90"
      ],
      "metadata": {
        "colab": {
          "base_uri": "https://localhost:8080/"
        },
        "outputId": "99749e72-b0a5-4dbf-837a-821421932348",
        "id": "gtbFA7SZkWEE"
      },
      "execution_count": 49,
      "outputs": [
        {
          "output_type": "stream",
          "name": "stdout",
          "text": [
            "converged SCF energy = -187.112760228364\n"
          ]
        },
        {
          "output_type": "execute_result",
          "data": {
            "text/plain": [
              "-187.11276022836398"
            ]
          },
          "metadata": {},
          "execution_count": 49
        }
      ]
    },
    {
      "cell_type": "markdown",
      "source": [
        "### TRANS"
      ],
      "metadata": {
        "id": "7FBAAV6LkP1m"
      }
    },
    {
      "cell_type": "code",
      "source": [
        "trans = gto.M(atom=\"trans.xyz\")"
      ],
      "metadata": {
        "id": "YbsfqumolIfM"
      },
      "execution_count": 50,
      "outputs": []
    },
    {
      "cell_type": "code",
      "source": [
        "trans.basis = \"6-31G\"\n",
        "mf_trans = trans.KS()\n",
        "mf_trans.xc = 'b3lyp'"
      ],
      "metadata": {
        "id": "og1W3XKPlIfN"
      },
      "execution_count": 51,
      "outputs": []
    },
    {
      "cell_type": "code",
      "source": [
        "resultado_trans= mf_trans.kernel()\n",
        "resultado_trans"
      ],
      "metadata": {
        "colab": {
          "base_uri": "https://localhost:8080/"
        },
        "outputId": "44e5811f-1b03-443d-d6b6-7721ddf0b79d",
        "id": "qp4GWMetlIfR"
      },
      "execution_count": 52,
      "outputs": [
        {
          "output_type": "stream",
          "name": "stdout",
          "text": [
            "converged SCF energy = -187.12489915747\n"
          ]
        },
        {
          "output_type": "execute_result",
          "data": {
            "text/plain": [
              "-187.12489915747048"
            ]
          },
          "metadata": {},
          "execution_count": 52
        }
      ]
    },
    {
      "cell_type": "markdown",
      "source": [
        "## 4. Gráfica"
      ],
      "metadata": {
        "id": "EFC_5fDaiUdu"
      }
    },
    {
      "cell_type": "code",
      "source": [
        "%%capture\n",
        "!pip install git+https://github.com/giacomomarchioro/PyEnergyDiagrams"
      ],
      "metadata": {
        "id": "FwuNY2YAmqXD"
      },
      "execution_count": 53,
      "outputs": []
    },
    {
      "cell_type": "code",
      "source": [
        "import matplotlib.pyplot as plt\n",
        "from energydiagram import ED"
      ],
      "metadata": {
        "id": "zwj1LJ3ziUF3"
      },
      "execution_count": 54,
      "outputs": []
    },
    {
      "cell_type": "code",
      "source": [
        "diagram = ED()\n",
        "diagram.add_level(resultado_cis,'Cis',color='y')\n",
        "diagram.add_level(resultado_cis_90,'TS',color='r')\n",
        "diagram.add_level(resultado_trans,'Trans',color='g')\n",
        "\n",
        "diagram.add_link(0,1)\n",
        "diagram.add_link(1,2)\n",
        "diagram.plot(ylabel=\"Energy\") # / $kcal$ $mol^{-1}$\")"
      ],
      "metadata": {
        "colab": {
          "base_uri": "https://localhost:8080/",
          "height": 403
        },
        "id": "FB0mkhCwsIrs",
        "outputId": "cbdec6da-9160-4f0b-887f-8b9ef125763a"
      },
      "execution_count": 55,
      "outputs": [
        {
          "output_type": "display_data",
          "data": {
            "text/plain": [
              "<Figure size 640x480 with 1 Axes>"
            ],
            "image/png": "[encoded data removed]"
          },
          "metadata": {}
        }
      ]
    },
    {
      "cell_type": "markdown",
      "source": [
        "## Cinética:"
      ],
      "metadata": {
        "id": "s6KjCM68siqt"
      }
    },
    {
      "cell_type": "code",
      "source": [
        "E_activacion = resultado_cis_90 - resultado_cis\n",
        "E_activacion"
      ],
      "metadata": {
        "colab": {
          "base_uri": "https://localhost:8080/"
        },
        "id": "5FxZxUSgsmcs",
        "outputId": "d5b6d949-90f8-4317-81c7-5b65af49f177"
      },
      "execution_count": 56,
      "outputs": [
        {
          "output_type": "execute_result",
          "data": {
            "text/plain": [
              "0.01555085846109705"
            ]
          },
          "metadata": {},
          "execution_count": 56
        }
      ]
    },
    {
      "cell_type": "markdown",
      "source": [
        "## Termodinámica"
      ],
      "metadata": {
        "id": "WyDYLxxoiauo"
      }
    },
    {
      "cell_type": "code",
      "source": [
        "entalpia = resultado_trans - resultado_cis\n",
        "if entalpia>0:\n",
        "  print(\"La reacción es endotérmica\")\n",
        "else:\n",
        "    print(\"La reacción es exotérmica\")"
      ],
      "metadata": {
        "colab": {
          "base_uri": "https://localhost:8080/"
        },
        "id": "fBTGtt-Ii9Zv",
        "outputId": "b5e8388c-cced-49d2-a3eb-d5980dad46e7"
      },
      "execution_count": 58,
      "outputs": [
        {
          "output_type": "stream",
          "name": "stdout",
          "text": [
            "La reacción es endotérmica\n"
          ]
        }
      ]
    }
  ]
}