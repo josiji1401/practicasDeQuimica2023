{
  "nbformat": 4,
  "nbformat_minor": 0,
  "metadata": {
    "colab": {
      "provenance": [],
      "authorship_tag": "ABX9TyMxiG7HdluPO2rAVRtH+0go",
      "include_colab_link": true
    },
    "kernelspec": {
      "name": "python3",
      "display_name": "Python 3"
    },
    "language_info": {
      "name": "python"
    }
  },
  "cells": [
    {
      "cell_type": "markdown",
      "metadata": {
        "id": "view-in-github",
        "colab_type": "text"
      },
      "source": [
        "<a href=\"https://colab.research.google.com/github/josiji1401/practicasDeQuimica2023/blob/main/ANODO_Y_CATADO_EN_ELECTROLISIS%2C_EN_MEDIO_BASICO.ipynb\" target=\"_parent\"><img src=\"https://colab.research.google.com/assets/colab-badge.svg\" alt=\"Open In Colab\"/></a>"
      ]
    },
    {
      "cell_type": "markdown",
      "source": [
        "**Código para determinar el ánodo y cátodo en una reacción química**"
      ],
      "metadata": {
        "id": "lQEcRHHcdUDF"
      }
    },
    {
      "cell_type": "code",
      "execution_count": null,
      "metadata": {
        "colab": {
          "base_uri": "https://localhost:8080/"
        },
        "id": "4gb4HJZydNnN",
        "outputId": "4a82921f-d67a-48ba-e313-0efa8eaa4fb0"
      },
      "outputs": [
        {
          "output_type": "stream",
          "name": "stdout",
          "text": [
            "Ánodo: 2H2O(l) -> O2(g) + 4H+(aq) + 4e-\n",
            "Cátodo: 4H2O(l) + 4e- -> 2H2(g) + 4OH-(aq)\n"
          ]
        }
      ],
      "source": [
        "#Opción 1\n",
        "def determinar_anodo_catodo(enlaces_reactivos):\n",
        "    if 'H2O' in enlaces_reactivos:\n",
        "        # La electrólisis del agua puede producir iones hidróxido (OH-) y iones hidrógeno (H+)\n",
        "        anodo = '2H2O(l) -> O2(g) + 4H+(aq) + 4e-'\n",
        "        cátodo = '4H2O(l) + 4e- -> 2H2(g) + 4OH-(aq)'\n",
        "    else:\n",
        "        # Si no es agua, proporciona un mensaje de error\n",
        "        return \"No se reconoce la reacción de electrólisis en medio básico\"\n",
        "\n",
        "    return f\"Ánodo: {anodo}\\nCátodo: {cátodo}\"\n",
        "\n",
        "# Ejemplo de uso con agua\n",
        "enlaces_reactivos_ejemplo = ['H2O']\n",
        "resultado = determinar_anodo_catodo(enlaces_reactivos_ejemplo)\n",
        "print(resultado)\n"
      ]
    },
    {
      "cell_type": "code",
      "source": [
        "#Opción 2\n",
        "def determinar_anodo_catodo(potenciales):\n",
        "    anodo = min(potenciales)\n",
        "    catodo = max(potenciales)\n",
        "\n",
        "    return anodo, catodo\n",
        "\n",
        "potenciales = ['2H2O(l)-> O2(g) + 4H+(aq) + 4e-','4H2O(l) + 4e- ->2H2(g) + 4OH-(aq)']\n",
        "anodo, catodo = determinar_anodo_catodo(potenciales)\n",
        "\n",
        "print(\"El ánodo es:\", anodo)\n",
        "print(\"El cátodo es:\", catodo)"
      ],
      "metadata": {
        "colab": {
          "base_uri": "https://localhost:8080/"
        },
        "id": "HaU-89HMdv_A",
        "outputId": "99bd9b8b-3ab3-4799-c5eb-4405bf968a6d"
      },
      "execution_count": null,
      "outputs": [
        {
          "output_type": "stream",
          "name": "stdout",
          "text": [
            "El ánodo es: 2H2O(l)-> O2(g) + 4H+(aq) + 4e-\n",
            "El cátodo es: 4H2O(l) + 4e- ->2H2(g) + 4OH-(aq)\n"
          ]
        }
      ]
    }
  ]
}